{
  "metadata": {
    "kernelspec": {
      "language": "python",
      "display_name": "Python 3",
      "name": "python3"
    },
    "language_info": {
      "name": "python",
      "version": "3.10.12",
      "mimetype": "text/x-python",
      "codemirror_mode": {
        "name": "ipython",
        "version": 3
      },
      "pygments_lexer": "ipython3",
      "nbconvert_exporter": "python",
      "file_extension": ".py"
    },
    "kaggle": {
      "accelerator": "none",
      "dataSources": [
        {
          "sourceId": 3136,
          "databundleVersionId": 26502,
          "sourceType": "competition"
        }
      ],
      "dockerImageVersionId": 30626,
      "isInternetEnabled": false,
      "language": "python",
      "sourceType": "notebook",
      "isGpuEnabled": false
    },
    "colab": {
      "name": "Titanic Project",
      "provenance": [],
      "include_colab_link": true
    }
  },
  "nbformat_minor": 0,
  "nbformat": 4,
  "cells": [
    {
      "cell_type": "markdown",
      "metadata": {
        "id": "view-in-github",
        "colab_type": "text"
      },
      "source": [
        "<a href=\"https://colab.research.google.com/github/RaviTejaGanti/Titanic-Survival-Prediction/blob/main/Titanic_Project.ipynb\" target=\"_parent\"><img src=\"https://colab.research.google.com/assets/colab-badge.svg\" alt=\"Open In Colab\"/></a>"
      ]
    },
    {
      "source": [
        "\n",
        "# IMPORTANT: RUN THIS CELL IN ORDER TO IMPORT YOUR KAGGLE DATA SOURCES\n",
        "# TO THE CORRECT LOCATION (/kaggle/input) IN YOUR NOTEBOOK,\n",
        "# THEN FEEL FREE TO DELETE THIS CELL.\n",
        "# NOTE: THIS NOTEBOOK ENVIRONMENT DIFFERS FROM KAGGLE'S PYTHON\n",
        "# ENVIRONMENT SO THERE MAY BE MISSING LIBRARIES USED BY YOUR\n",
        "# NOTEBOOK.\n",
        "\n",
        "import os\n",
        "import sys\n",
        "from tempfile import NamedTemporaryFile\n",
        "from urllib.request import urlopen\n",
        "from urllib.parse import unquote, urlparse\n",
        "from urllib.error import HTTPError\n",
        "from zipfile import ZipFile\n",
        "import tarfile\n",
        "import shutil\n",
        "\n",
        "CHUNK_SIZE = 40960\n",
        "DATA_SOURCE_MAPPING = 'titanic:https%3A%2F%2Fstorage.googleapis.com%2Fkaggle-competitions-data%2Fkaggle-v2%2F3136%2F26502%2Fbundle%2Farchive.zip%3FX-Goog-Algorithm%3DGOOG4-RSA-SHA256%26X-Goog-Credential%3Dgcp-kaggle-com%2540kaggle-161607.iam.gserviceaccount.com%252F20240221%252Fauto%252Fstorage%252Fgoog4_request%26X-Goog-Date%3D20240221T235137Z%26X-Goog-Expires%3D259200%26X-Goog-SignedHeaders%3Dhost%26X-Goog-Signature%3D7eeb82e275350806ef840488ec7e532e30eb3388188aab5ea7bd31550822017c745d2d584eac87dc7aee400ba1d6bc1dd44ccbc53f6fa1d120672b51668c942220a0786de164fcf12070d864dfadef7b749c5ee3dc1e05237df0c2cdc19fface54ef815c61a97c5a572bd53a616c470aaff60eb9f73cfa51a131cdd29574e43b737a45605dcbe5e78f9cdae62a0b648b047e1ee4fc4acdcfaa56885f1cf0f57a623f24485963731669f1ef166bd88ea28564d89ab427d129e103f90993b1d92d31e846ea3d49aa99d8c2402396ecaad1c32073be1ecb13d48065087966711c3579b7f02c177e1b97d94e6b5ae83d9988c5225365b7041ee5a7c19c37f9f365f3'\n",
        "\n",
        "KAGGLE_INPUT_PATH='/kaggle/input'\n",
        "KAGGLE_WORKING_PATH='/kaggle/working'\n",
        "KAGGLE_SYMLINK='kaggle'\n",
        "\n",
        "!umount /kaggle/input/ 2> /dev/null\n",
        "shutil.rmtree('/kaggle/input', ignore_errors=True)\n",
        "os.makedirs(KAGGLE_INPUT_PATH, 0o777, exist_ok=True)\n",
        "os.makedirs(KAGGLE_WORKING_PATH, 0o777, exist_ok=True)\n",
        "\n",
        "try:\n",
        "  os.symlink(KAGGLE_INPUT_PATH, os.path.join(\"..\", 'input'), target_is_directory=True)\n",
        "except FileExistsError:\n",
        "  pass\n",
        "try:\n",
        "  os.symlink(KAGGLE_WORKING_PATH, os.path.join(\"..\", 'working'), target_is_directory=True)\n",
        "except FileExistsError:\n",
        "  pass\n",
        "\n",
        "for data_source_mapping in DATA_SOURCE_MAPPING.split(','):\n",
        "    directory, download_url_encoded = data_source_mapping.split(':')\n",
        "    download_url = unquote(download_url_encoded)\n",
        "    filename = urlparse(download_url).path\n",
        "    destination_path = os.path.join(KAGGLE_INPUT_PATH, directory)\n",
        "    try:\n",
        "        with urlopen(download_url) as fileres, NamedTemporaryFile() as tfile:\n",
        "            total_length = fileres.headers['content-length']\n",
        "            print(f'Downloading {directory}, {total_length} bytes compressed')\n",
        "            dl = 0\n",
        "            data = fileres.read(CHUNK_SIZE)\n",
        "            while len(data) > 0:\n",
        "                dl += len(data)\n",
        "                tfile.write(data)\n",
        "                done = int(50 * dl / int(total_length))\n",
        "                sys.stdout.write(f\"\\r[{'=' * done}{' ' * (50-done)}] {dl} bytes downloaded\")\n",
        "                sys.stdout.flush()\n",
        "                data = fileres.read(CHUNK_SIZE)\n",
        "            if filename.endswith('.zip'):\n",
        "              with ZipFile(tfile) as zfile:\n",
        "                zfile.extractall(destination_path)\n",
        "            else:\n",
        "              with tarfile.open(tfile.name) as tarfile:\n",
        "                tarfile.extractall(destination_path)\n",
        "            print(f'\\nDownloaded and uncompressed: {directory}')\n",
        "    except HTTPError as e:\n",
        "        print(f'Failed to load (likely expired) {download_url} to path {destination_path}')\n",
        "        continue\n",
        "    except OSError as e:\n",
        "        print(f'Failed to load {download_url} to path {destination_path}')\n",
        "        continue\n",
        "\n",
        "print('Data source import complete.')\n"
      ],
      "metadata": {
        "id": "yvGVUKObFw2m"
      },
      "cell_type": "code",
      "outputs": [],
      "execution_count": null
    },
    {
      "cell_type": "code",
      "source": [],
      "metadata": {
        "id": "Fz9j25SAFw2p"
      },
      "execution_count": null,
      "outputs": []
    },
    {
      "cell_type": "code",
      "source": [
        "# This Python 3 environment comes with many helpful analytics libraries installed\n",
        "# It is defined by the kaggle/python Docker image: https://github.com/kaggle/docker-python\n",
        "# For example, here's several helpful packages to load\n",
        "\n",
        "import numpy as np # linear algebra\n",
        "import pandas as pd # data processing, CSV file I/O (e.g. pd.read_csv)\n",
        "\n",
        "# Input data files are available in the read-only \"../input/\" directory\n",
        "# For example, running this (by clicking run or pressing Shift+Enter) will list all files under the input directory\n",
        "\n",
        "import os\n",
        "for dirname, _, filenames in os.walk('/kaggle/input'):\n",
        "    for filename in filenames:\n",
        "        print(os.path.join(dirname, filename))\n",
        "\n",
        "# You can write up to 20GB to the current directory (/kaggle/working/) that gets preserved as output when you create a version using \"Save & Run All\"\n",
        "# You can also write temporary files to /kaggle/temp/, but they won't be saved outside of the current session"
      ],
      "metadata": {
        "_uuid": "8f2839f25d086af736a60e9eeb907d3b93b6e0e5",
        "_cell_guid": "b1076dfc-b9ad-4769-8c92-a6c4dae69d19",
        "execution": {
          "iopub.status.busy": "2024-02-21T23:18:37.523952Z",
          "iopub.execute_input": "2024-02-21T23:18:37.524336Z",
          "iopub.status.idle": "2024-02-21T23:18:37.994288Z",
          "shell.execute_reply.started": "2024-02-21T23:18:37.524296Z",
          "shell.execute_reply": "2024-02-21T23:18:37.99299Z"
        },
        "trusted": true,
        "id": "uyJONfoWFw2p"
      },
      "execution_count": null,
      "outputs": []
    },
    {
      "cell_type": "code",
      "source": [
        "import seaborn as sns\n"
      ],
      "metadata": {
        "execution": {
          "iopub.status.busy": "2024-02-21T23:18:37.996672Z",
          "iopub.execute_input": "2024-02-21T23:18:37.9982Z",
          "iopub.status.idle": "2024-02-21T23:18:39.551724Z",
          "shell.execute_reply.started": "2024-02-21T23:18:37.998151Z",
          "shell.execute_reply": "2024-02-21T23:18:39.550334Z"
        },
        "trusted": true,
        "id": "Hf_fMS3SFw2q"
      },
      "execution_count": null,
      "outputs": []
    },
    {
      "cell_type": "code",
      "source": [
        "train = pd.read_csv(\"/kaggle/input/titanic/train.csv\")\n",
        "test = pd.read_csv(\"/kaggle/input/titanic/test.csv\")"
      ],
      "metadata": {
        "execution": {
          "iopub.status.busy": "2024-02-21T23:18:39.553294Z",
          "iopub.execute_input": "2024-02-21T23:18:39.553722Z",
          "iopub.status.idle": "2024-02-21T23:18:39.588217Z",
          "shell.execute_reply.started": "2024-02-21T23:18:39.553667Z",
          "shell.execute_reply": "2024-02-21T23:18:39.586147Z"
        },
        "trusted": true,
        "id": "loZEpdKjFw2q"
      },
      "execution_count": null,
      "outputs": []
    },
    {
      "cell_type": "code",
      "source": [
        "train.info()"
      ],
      "metadata": {
        "execution": {
          "iopub.status.busy": "2024-02-21T23:18:39.591197Z",
          "iopub.execute_input": "2024-02-21T23:18:39.592228Z",
          "iopub.status.idle": "2024-02-21T23:18:39.630301Z",
          "shell.execute_reply.started": "2024-02-21T23:18:39.592184Z",
          "shell.execute_reply": "2024-02-21T23:18:39.62932Z"
        },
        "trusted": true,
        "id": "QFV4ZA_mFw2q"
      },
      "execution_count": null,
      "outputs": []
    },
    {
      "cell_type": "code",
      "source": [
        "test.info()"
      ],
      "metadata": {
        "execution": {
          "iopub.status.busy": "2024-02-21T23:18:39.63171Z",
          "iopub.execute_input": "2024-02-21T23:18:39.632171Z",
          "iopub.status.idle": "2024-02-21T23:18:39.647528Z",
          "shell.execute_reply.started": "2024-02-21T23:18:39.632131Z",
          "shell.execute_reply": "2024-02-21T23:18:39.645939Z"
        },
        "trusted": true,
        "id": "iVvqmf-pFw2q"
      },
      "execution_count": null,
      "outputs": []
    },
    {
      "cell_type": "code",
      "source": [
        "train.describe()"
      ],
      "metadata": {
        "execution": {
          "iopub.status.busy": "2024-02-21T23:18:39.649059Z",
          "iopub.execute_input": "2024-02-21T23:18:39.649945Z",
          "iopub.status.idle": "2024-02-21T23:18:39.796898Z",
          "shell.execute_reply.started": "2024-02-21T23:18:39.649901Z",
          "shell.execute_reply": "2024-02-21T23:18:39.795658Z"
        },
        "trusted": true,
        "id": "r-smOqbIFw2q"
      },
      "execution_count": null,
      "outputs": []
    },
    {
      "cell_type": "code",
      "source": [
        "print(train.duplicated().sum())"
      ],
      "metadata": {
        "execution": {
          "iopub.status.busy": "2024-02-21T23:18:39.798431Z",
          "iopub.execute_input": "2024-02-21T23:18:39.798921Z",
          "iopub.status.idle": "2024-02-21T23:18:39.810403Z",
          "shell.execute_reply.started": "2024-02-21T23:18:39.798878Z",
          "shell.execute_reply": "2024-02-21T23:18:39.809019Z"
        },
        "trusted": true,
        "id": "-VnBJfU1Fw2r"
      },
      "execution_count": null,
      "outputs": []
    },
    {
      "cell_type": "code",
      "source": [
        "sns.countplot(train,x='Sex',hue='Survived')"
      ],
      "metadata": {
        "execution": {
          "iopub.status.busy": "2024-02-21T23:18:39.812192Z",
          "iopub.execute_input": "2024-02-21T23:18:39.813007Z",
          "iopub.status.idle": "2024-02-21T23:18:40.130388Z",
          "shell.execute_reply.started": "2024-02-21T23:18:39.812962Z",
          "shell.execute_reply": "2024-02-21T23:18:40.129012Z"
        },
        "trusted": true,
        "id": "f5fu17neFw2r"
      },
      "execution_count": null,
      "outputs": []
    },
    {
      "cell_type": "code",
      "source": [
        "sns.countplot(train,x='Pclass',hue='Survived')"
      ],
      "metadata": {
        "execution": {
          "iopub.status.busy": "2024-02-21T23:18:40.131749Z",
          "iopub.execute_input": "2024-02-21T23:18:40.132763Z",
          "iopub.status.idle": "2024-02-21T23:18:40.474345Z",
          "shell.execute_reply.started": "2024-02-21T23:18:40.132717Z",
          "shell.execute_reply": "2024-02-21T23:18:40.47316Z"
        },
        "trusted": true,
        "id": "_4oZ5aG-Fw2r"
      },
      "execution_count": null,
      "outputs": []
    },
    {
      "cell_type": "code",
      "source": [
        "l = sns.FacetGrid(train,col='Survived',hue='Sex')\n",
        "l.map(sns.histplot,\"Age\")\n",
        "#sns.histplot(data = train[train['Survived']==1],x='Age')"
      ],
      "metadata": {
        "execution": {
          "iopub.status.busy": "2024-02-21T23:18:40.479736Z",
          "iopub.execute_input": "2024-02-21T23:18:40.480117Z",
          "iopub.status.idle": "2024-02-21T23:18:41.356403Z",
          "shell.execute_reply.started": "2024-02-21T23:18:40.480085Z",
          "shell.execute_reply": "2024-02-21T23:18:41.355234Z"
        },
        "trusted": true,
        "id": "s33nSkczFw2r"
      },
      "execution_count": null,
      "outputs": []
    },
    {
      "cell_type": "code",
      "source": [
        "g = sns.FacetGrid(train,col='Survived')\n",
        "g.map(sns.scatterplot,\"Fare\",\"Age\")"
      ],
      "metadata": {
        "execution": {
          "iopub.status.busy": "2024-02-21T23:18:41.358275Z",
          "iopub.execute_input": "2024-02-21T23:18:41.359045Z",
          "iopub.status.idle": "2024-02-21T23:18:42.214879Z",
          "shell.execute_reply.started": "2024-02-21T23:18:41.358998Z",
          "shell.execute_reply": "2024-02-21T23:18:42.213364Z"
        },
        "trusted": true,
        "id": "nfB8_OT4Fw2r"
      },
      "execution_count": null,
      "outputs": []
    },
    {
      "cell_type": "code",
      "source": [
        "sns.boxplot(train,x='Survived',y='Age',hue='Sex')"
      ],
      "metadata": {
        "execution": {
          "iopub.status.busy": "2024-02-21T23:18:42.216442Z",
          "iopub.execute_input": "2024-02-21T23:18:42.217534Z",
          "iopub.status.idle": "2024-02-21T23:18:42.577923Z",
          "shell.execute_reply.started": "2024-02-21T23:18:42.217478Z",
          "shell.execute_reply": "2024-02-21T23:18:42.576828Z"
        },
        "trusted": true,
        "id": "j2wgXiYrFw2r"
      },
      "execution_count": null,
      "outputs": []
    },
    {
      "cell_type": "code",
      "source": [
        "train.isnull().sum()"
      ],
      "metadata": {
        "execution": {
          "iopub.status.busy": "2024-02-21T23:18:42.579393Z",
          "iopub.execute_input": "2024-02-21T23:18:42.579853Z",
          "iopub.status.idle": "2024-02-21T23:18:42.589328Z",
          "shell.execute_reply.started": "2024-02-21T23:18:42.579813Z",
          "shell.execute_reply": "2024-02-21T23:18:42.588204Z"
        },
        "trusted": true,
        "id": "VALZ0ZdyFw2s"
      },
      "execution_count": null,
      "outputs": []
    },
    {
      "cell_type": "code",
      "source": [
        "train['Age'].fillna(train.Age.mean(),inplace=True)"
      ],
      "metadata": {
        "execution": {
          "iopub.status.busy": "2024-02-21T23:18:42.590665Z",
          "iopub.execute_input": "2024-02-21T23:18:42.591002Z",
          "iopub.status.idle": "2024-02-21T23:18:42.60104Z",
          "shell.execute_reply.started": "2024-02-21T23:18:42.590972Z",
          "shell.execute_reply": "2024-02-21T23:18:42.59981Z"
        },
        "trusted": true,
        "id": "aSA5h_pRFw2s"
      },
      "execution_count": null,
      "outputs": []
    },
    {
      "cell_type": "code",
      "source": [
        "test['Age'].fillna(test.Age.mean(),inplace=True)"
      ],
      "metadata": {
        "execution": {
          "iopub.status.busy": "2024-02-21T23:18:42.603064Z",
          "iopub.execute_input": "2024-02-21T23:18:42.603401Z",
          "iopub.status.idle": "2024-02-21T23:18:42.614041Z",
          "shell.execute_reply.started": "2024-02-21T23:18:42.60337Z",
          "shell.execute_reply": "2024-02-21T23:18:42.6126Z"
        },
        "trusted": true,
        "id": "fNhyhQuVFw2s"
      },
      "execution_count": null,
      "outputs": []
    },
    {
      "cell_type": "code",
      "source": [
        "test['Fare'].fillna(test.Fare.mean(),inplace=True)"
      ],
      "metadata": {
        "execution": {
          "iopub.status.busy": "2024-02-21T23:18:42.615425Z",
          "iopub.execute_input": "2024-02-21T23:18:42.615881Z",
          "iopub.status.idle": "2024-02-21T23:18:42.624182Z",
          "shell.execute_reply.started": "2024-02-21T23:18:42.615835Z",
          "shell.execute_reply": "2024-02-21T23:18:42.623117Z"
        },
        "trusted": true,
        "id": "M0BNHwO-Fw2s"
      },
      "execution_count": null,
      "outputs": []
    },
    {
      "cell_type": "code",
      "source": [
        "e_m = train['Embarked'].mode()[0]\n",
        "\n",
        "train['Embarked'] = train['Embarked'].replace(\"\", e_m)"
      ],
      "metadata": {
        "execution": {
          "iopub.status.busy": "2024-02-21T23:18:42.626167Z",
          "iopub.execute_input": "2024-02-21T23:18:42.626484Z",
          "iopub.status.idle": "2024-02-21T23:18:42.636639Z",
          "shell.execute_reply.started": "2024-02-21T23:18:42.626445Z",
          "shell.execute_reply": "2024-02-21T23:18:42.635689Z"
        },
        "trusted": true,
        "id": "_-EfrCMvFw2s"
      },
      "execution_count": null,
      "outputs": []
    },
    {
      "cell_type": "code",
      "source": [
        "e_m_t = test['Embarked'].mode()[0]\n",
        "\n",
        "test['Embarked'] = test['Embarked'].replace(\"\", e_m_t)"
      ],
      "metadata": {
        "execution": {
          "iopub.status.busy": "2024-02-21T23:18:42.638481Z",
          "iopub.execute_input": "2024-02-21T23:18:42.63938Z",
          "iopub.status.idle": "2024-02-21T23:18:42.650363Z",
          "shell.execute_reply.started": "2024-02-21T23:18:42.639317Z",
          "shell.execute_reply": "2024-02-21T23:18:42.649131Z"
        },
        "trusted": true,
        "id": "3PW6CZc_Fw2s"
      },
      "execution_count": null,
      "outputs": []
    },
    {
      "cell_type": "code",
      "source": [
        "c_m = train['Cabin'].mode()[0]\n",
        "train['Cabin'] = train['Cabin'].replace(np.nan, c_m)"
      ],
      "metadata": {
        "execution": {
          "iopub.status.busy": "2024-02-21T23:18:42.651913Z",
          "iopub.execute_input": "2024-02-21T23:18:42.65293Z",
          "iopub.status.idle": "2024-02-21T23:18:42.665359Z",
          "shell.execute_reply.started": "2024-02-21T23:18:42.652895Z",
          "shell.execute_reply": "2024-02-21T23:18:42.664255Z"
        },
        "trusted": true,
        "id": "ThuV26WCFw2s"
      },
      "execution_count": null,
      "outputs": []
    },
    {
      "cell_type": "code",
      "source": [
        "c_m_t = test['Cabin'].mode()[0]\n",
        "test['Cabin'] = test['Cabin'].replace(np.nan, c_m_t)"
      ],
      "metadata": {
        "execution": {
          "iopub.status.busy": "2024-02-21T23:18:42.666646Z",
          "iopub.execute_input": "2024-02-21T23:18:42.667646Z",
          "iopub.status.idle": "2024-02-21T23:18:42.679704Z",
          "shell.execute_reply.started": "2024-02-21T23:18:42.667605Z",
          "shell.execute_reply": "2024-02-21T23:18:42.678648Z"
        },
        "trusted": true,
        "id": "O50YVlghFw2s"
      },
      "execution_count": null,
      "outputs": []
    },
    {
      "cell_type": "code",
      "source": [
        "train.isnull().sum()"
      ],
      "metadata": {
        "execution": {
          "iopub.status.busy": "2024-02-21T23:18:42.681937Z",
          "iopub.execute_input": "2024-02-21T23:18:42.682626Z",
          "iopub.status.idle": "2024-02-21T23:18:42.699583Z",
          "shell.execute_reply.started": "2024-02-21T23:18:42.682583Z",
          "shell.execute_reply": "2024-02-21T23:18:42.698381Z"
        },
        "trusted": true,
        "id": "joYcriv7Fw2t"
      },
      "execution_count": null,
      "outputs": []
    },
    {
      "cell_type": "code",
      "source": [
        "test.isnull().sum()"
      ],
      "metadata": {
        "execution": {
          "iopub.status.busy": "2024-02-21T23:18:42.701157Z",
          "iopub.execute_input": "2024-02-21T23:18:42.701517Z",
          "iopub.status.idle": "2024-02-21T23:18:42.711385Z",
          "shell.execute_reply.started": "2024-02-21T23:18:42.701473Z",
          "shell.execute_reply": "2024-02-21T23:18:42.71026Z"
        },
        "trusted": true,
        "id": "klyK-7DqFw2t"
      },
      "execution_count": null,
      "outputs": []
    },
    {
      "cell_type": "code",
      "source": [
        "l = sns.FacetGrid(train,col='Pclass',hue='Survived')\n",
        "l.map(sns.countplot,\"Sex\")\n",
        "l.add_legend()"
      ],
      "metadata": {
        "execution": {
          "iopub.status.busy": "2024-02-21T23:18:42.713076Z",
          "iopub.execute_input": "2024-02-21T23:18:42.713797Z",
          "iopub.status.idle": "2024-02-21T23:18:43.85737Z",
          "shell.execute_reply.started": "2024-02-21T23:18:42.713736Z",
          "shell.execute_reply": "2024-02-21T23:18:43.85621Z"
        },
        "trusted": true,
        "id": "zuryROxEFw2t"
      },
      "execution_count": null,
      "outputs": []
    },
    {
      "cell_type": "code",
      "source": [
        "k = sns.FacetGrid(train,col='Embarked',hue='Survived')\n",
        "k.map(sns.countplot,\"Sex\")\n",
        "k.add_legend()"
      ],
      "metadata": {
        "execution": {
          "iopub.status.busy": "2024-02-21T23:18:43.858934Z",
          "iopub.execute_input": "2024-02-21T23:18:43.859338Z",
          "iopub.status.idle": "2024-02-21T23:18:44.909971Z",
          "shell.execute_reply.started": "2024-02-21T23:18:43.859305Z",
          "shell.execute_reply": "2024-02-21T23:18:44.909151Z"
        },
        "trusted": true,
        "id": "Yyf8pkF8Fw2t"
      },
      "execution_count": null,
      "outputs": []
    },
    {
      "cell_type": "code",
      "source": [
        "sns.boxplot(train,x='Survived',y='Age',hue='Sex')"
      ],
      "metadata": {
        "execution": {
          "iopub.status.busy": "2024-02-21T23:18:44.911216Z",
          "iopub.execute_input": "2024-02-21T23:18:44.912136Z",
          "iopub.status.idle": "2024-02-21T23:18:45.267446Z",
          "shell.execute_reply.started": "2024-02-21T23:18:44.912103Z",
          "shell.execute_reply": "2024-02-21T23:18:45.266343Z"
        },
        "trusted": true,
        "id": "PLF4N4t6Fw2t"
      },
      "execution_count": null,
      "outputs": []
    },
    {
      "cell_type": "code",
      "source": [
        "from sklearn import preprocessing\n",
        "label_encode = preprocessing.LabelEncoder()\n",
        "train['Cabin'] = label_encode.fit_transform(train['Cabin'])\n",
        "train['Embarked'] = label_encode.fit_transform(train['Embarked'])\n",
        "train['Sex'] = label_encode.fit_transform(train['Sex'])"
      ],
      "metadata": {
        "execution": {
          "iopub.status.busy": "2024-02-21T23:18:45.270842Z",
          "iopub.execute_input": "2024-02-21T23:18:45.271323Z",
          "iopub.status.idle": "2024-02-21T23:18:45.357474Z",
          "shell.execute_reply.started": "2024-02-21T23:18:45.271276Z",
          "shell.execute_reply": "2024-02-21T23:18:45.356345Z"
        },
        "trusted": true,
        "id": "lS3Fi4bpFw2t"
      },
      "execution_count": null,
      "outputs": []
    },
    {
      "cell_type": "code",
      "source": [
        "test['Cabin'] = label_encode.fit_transform(test['Cabin'])\n",
        "test['Embarked'] = label_encode.fit_transform(test['Embarked'])\n",
        "test['Sex'] = label_encode.fit_transform(test['Sex'])"
      ],
      "metadata": {
        "execution": {
          "iopub.status.busy": "2024-02-21T23:18:45.359172Z",
          "iopub.execute_input": "2024-02-21T23:18:45.359866Z",
          "iopub.status.idle": "2024-02-21T23:18:45.368013Z",
          "shell.execute_reply.started": "2024-02-21T23:18:45.359828Z",
          "shell.execute_reply": "2024-02-21T23:18:45.366828Z"
        },
        "trusted": true,
        "id": "kIxy00FzFw2t"
      },
      "execution_count": null,
      "outputs": []
    },
    {
      "cell_type": "code",
      "source": [
        "labels = np.array(train['Survived'])\n",
        "features = train.drop(['Survived','Name','Ticket'],axis=1)"
      ],
      "metadata": {
        "execution": {
          "iopub.status.busy": "2024-02-21T23:18:45.374395Z",
          "iopub.execute_input": "2024-02-21T23:18:45.374736Z",
          "iopub.status.idle": "2024-02-21T23:18:45.381413Z",
          "shell.execute_reply.started": "2024-02-21T23:18:45.374706Z",
          "shell.execute_reply": "2024-02-21T23:18:45.380302Z"
        },
        "trusted": true,
        "id": "q3MdSETtFw2t"
      },
      "execution_count": null,
      "outputs": []
    },
    {
      "cell_type": "code",
      "source": [
        "features_list = list(features.columns)\n",
        "features = np.array(features)"
      ],
      "metadata": {
        "execution": {
          "iopub.status.busy": "2024-02-21T23:18:45.382486Z",
          "iopub.execute_input": "2024-02-21T23:18:45.382795Z",
          "iopub.status.idle": "2024-02-21T23:18:45.394668Z",
          "shell.execute_reply.started": "2024-02-21T23:18:45.382752Z",
          "shell.execute_reply": "2024-02-21T23:18:45.393563Z"
        },
        "trusted": true,
        "id": "KKXHHqa1Fw2u"
      },
      "execution_count": null,
      "outputs": []
    },
    {
      "cell_type": "code",
      "source": [
        "test = test.drop(['Name','Ticket'],axis=1)"
      ],
      "metadata": {
        "execution": {
          "iopub.status.busy": "2024-02-21T23:18:45.395907Z",
          "iopub.execute_input": "2024-02-21T23:18:45.396366Z",
          "iopub.status.idle": "2024-02-21T23:18:45.406854Z",
          "shell.execute_reply.started": "2024-02-21T23:18:45.396303Z",
          "shell.execute_reply": "2024-02-21T23:18:45.406056Z"
        },
        "trusted": true,
        "id": "KQAzB2HWFw2u"
      },
      "execution_count": null,
      "outputs": []
    },
    {
      "cell_type": "code",
      "source": [
        "test"
      ],
      "metadata": {
        "execution": {
          "iopub.status.busy": "2024-02-21T23:18:45.407891Z",
          "iopub.execute_input": "2024-02-21T23:18:45.408319Z",
          "iopub.status.idle": "2024-02-21T23:18:45.432464Z",
          "shell.execute_reply.started": "2024-02-21T23:18:45.408278Z",
          "shell.execute_reply": "2024-02-21T23:18:45.431634Z"
        },
        "trusted": true,
        "id": "lH7fkDefFw2u"
      },
      "execution_count": null,
      "outputs": []
    },
    {
      "cell_type": "code",
      "source": [
        "print(test.shape)\n",
        "print(features.shape)"
      ],
      "metadata": {
        "execution": {
          "iopub.status.busy": "2024-02-21T23:18:45.433871Z",
          "iopub.execute_input": "2024-02-21T23:18:45.43427Z",
          "iopub.status.idle": "2024-02-21T23:18:45.440294Z",
          "shell.execute_reply.started": "2024-02-21T23:18:45.434231Z",
          "shell.execute_reply": "2024-02-21T23:18:45.439436Z"
        },
        "trusted": true,
        "id": "yrXWuM_KFw2u"
      },
      "execution_count": null,
      "outputs": []
    },
    {
      "cell_type": "code",
      "source": [
        "from sklearn.ensemble import RandomForestClassifier\n",
        "rfc = RandomForestClassifier(random_state=0)"
      ],
      "metadata": {
        "execution": {
          "iopub.status.busy": "2024-02-21T23:18:45.441943Z",
          "iopub.execute_input": "2024-02-21T23:18:45.442262Z",
          "iopub.status.idle": "2024-02-21T23:18:45.923375Z",
          "shell.execute_reply.started": "2024-02-21T23:18:45.442234Z",
          "shell.execute_reply": "2024-02-21T23:18:45.922246Z"
        },
        "trusted": true,
        "id": "LnK_UMCWFw2u"
      },
      "execution_count": null,
      "outputs": []
    },
    {
      "cell_type": "code",
      "source": [
        "rfc.fit(features,labels)"
      ],
      "metadata": {
        "execution": {
          "iopub.status.busy": "2024-02-21T23:18:45.926434Z",
          "iopub.execute_input": "2024-02-21T23:18:45.928038Z",
          "iopub.status.idle": "2024-02-21T23:18:46.240834Z",
          "shell.execute_reply.started": "2024-02-21T23:18:45.928002Z",
          "shell.execute_reply": "2024-02-21T23:18:46.239514Z"
        },
        "trusted": true,
        "id": "XRaQSAs8Fw2v"
      },
      "execution_count": null,
      "outputs": []
    },
    {
      "cell_type": "code",
      "source": [
        "labels_pred= rfc.predict(test)"
      ],
      "metadata": {
        "execution": {
          "iopub.status.busy": "2024-02-21T23:28:13.515643Z",
          "iopub.execute_input": "2024-02-21T23:28:13.516169Z",
          "iopub.status.idle": "2024-02-21T23:28:13.538958Z",
          "shell.execute_reply.started": "2024-02-21T23:28:13.516129Z",
          "shell.execute_reply": "2024-02-21T23:28:13.537847Z"
        },
        "trusted": true,
        "id": "CpysCn-kFw2v"
      },
      "execution_count": null,
      "outputs": []
    },
    {
      "cell_type": "code",
      "source": [
        "output = pd.DataFrame({'PassengerId': test.PassengerId, 'Survived':labels_pred })"
      ],
      "metadata": {
        "execution": {
          "iopub.status.busy": "2024-02-21T23:29:39.171317Z",
          "iopub.execute_input": "2024-02-21T23:29:39.171747Z",
          "iopub.status.idle": "2024-02-21T23:29:39.178205Z",
          "shell.execute_reply.started": "2024-02-21T23:29:39.171709Z",
          "shell.execute_reply": "2024-02-21T23:29:39.177079Z"
        },
        "trusted": true,
        "id": "ZVmpewC2Fw2v"
      },
      "execution_count": null,
      "outputs": []
    },
    {
      "cell_type": "code",
      "source": [
        "output.to_csv('submission.csv', index=False)\n",
        "print(\"Your submission was successfully saved!\")"
      ],
      "metadata": {
        "execution": {
          "iopub.status.busy": "2024-02-21T23:30:30.88298Z",
          "iopub.execute_input": "2024-02-21T23:30:30.883452Z",
          "iopub.status.idle": "2024-02-21T23:30:30.893685Z",
          "shell.execute_reply.started": "2024-02-21T23:30:30.883403Z",
          "shell.execute_reply": "2024-02-21T23:30:30.892939Z"
        },
        "trusted": true,
        "id": "6TblzDSOFw2v"
      },
      "execution_count": null,
      "outputs": []
    },
    {
      "cell_type": "code",
      "source": [],
      "metadata": {
        "id": "ajMmxbOgFw27"
      },
      "execution_count": null,
      "outputs": []
    }
  ]
}