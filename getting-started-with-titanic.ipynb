{
 "cells": [
  {
   "cell_type": "code",
   "execution_count": 1,
   "id": "eb78a2a1",
   "metadata": {
    "_cell_guid": "b1076dfc-b9ad-4769-8c92-a6c4dae69d19",
    "_uuid": "8f2839f25d086af736a60e9eeb907d3b93b6e0e5",
    "execution": {
     "iopub.execute_input": "2025-06-17T06:18:06.268030Z",
     "iopub.status.busy": "2025-06-17T06:18:06.267646Z",
     "iopub.status.idle": "2025-06-17T06:18:08.370578Z",
     "shell.execute_reply": "2025-06-17T06:18:08.369431Z"
    },
    "papermill": {
     "duration": 2.109087,
     "end_time": "2025-06-17T06:18:08.372696",
     "exception": false,
     "start_time": "2025-06-17T06:18:06.263609",
     "status": "completed"
    },
    "tags": []
   },
   "outputs": [
    {
     "name": "stdout",
     "output_type": "stream",
     "text": [
      "/kaggle/input/titanic/train.csv\n",
      "/kaggle/input/titanic/test.csv\n",
      "/kaggle/input/titanic/gender_submission.csv\n"
     ]
    }
   ],
   "source": [
    "# This Python 3 environment comes with many helpful analytics libraries installed\n",
    "# It is defined by the kaggle/python Docker image: https://github.com/kaggle/docker-python\n",
    "# For example, here's several helpful packages to load\n",
    "\n",
    "import numpy as np # linear algebra\n",
    "import pandas as pd # data processing, CSV file I/O (e.g. pd.read_csv)\n",
    "\n",
    "# Input data files are available in the read-only \"../input/\" directory\n",
    "# For example, running this (by clicking run or pressing Shift+Enter) will list all files under the input directory\n",
    "\n",
    "import os\n",
    "for dirname, _, filenames in os.walk('/kaggle/input'):\n",
    "    for filename in filenames:\n",
    "        print(os.path.join(dirname, filename))\n",
    "\n",
    "# You can write up to 20GB to the current directory (/kaggle/working/) that gets preserved as output when you create a version using \"Save & Run All\" \n",
    "# You can also write temporary files to /kaggle/temp/, but they won't be saved outside of the current session"
   ]
  },
  {
   "cell_type": "code",
   "execution_count": 2,
   "id": "ca90fe2b",
   "metadata": {
    "execution": {
     "iopub.execute_input": "2025-06-17T06:18:08.379035Z",
     "iopub.status.busy": "2025-06-17T06:18:08.378617Z",
     "iopub.status.idle": "2025-06-17T06:18:08.412824Z",
     "shell.execute_reply": "2025-06-17T06:18:08.411817Z"
    },
    "papermill": {
     "duration": 0.039188,
     "end_time": "2025-06-17T06:18:08.414657",
     "exception": false,
     "start_time": "2025-06-17T06:18:08.375469",
     "status": "completed"
    },
    "tags": []
   },
   "outputs": [],
   "source": [
    "train_data = pd.read_csv('/kaggle/input/titanic/train.csv')\n",
    "test_data = pd.read_csv('/kaggle/input/titanic/test.csv')"
   ]
  },
  {
   "cell_type": "code",
   "execution_count": 3,
   "id": "ed66da2f",
   "metadata": {
    "execution": {
     "iopub.execute_input": "2025-06-17T06:18:08.420541Z",
     "iopub.status.busy": "2025-06-17T06:18:08.420226Z",
     "iopub.status.idle": "2025-06-17T06:18:08.437141Z",
     "shell.execute_reply": "2025-06-17T06:18:08.435989Z"
    },
    "papermill": {
     "duration": 0.021983,
     "end_time": "2025-06-17T06:18:08.439020",
     "exception": false,
     "start_time": "2025-06-17T06:18:08.417037",
     "status": "completed"
    },
    "tags": []
   },
   "outputs": [
    {
     "name": "stdout",
     "output_type": "stream",
     "text": [
      "% of women who survived 0.7420382165605095\n"
     ]
    }
   ],
   "source": [
    "women_hype = train_data.loc[train_data['Sex']=='female'][\"Survived\"]\n",
    "rate_women = sum(women_hype)/len(women_hype)\n",
    "print(\"% of women who survived\",rate_women)"
   ]
  },
  {
   "cell_type": "code",
   "execution_count": 4,
   "id": "9b0ad060",
   "metadata": {
    "execution": {
     "iopub.execute_input": "2025-06-17T06:18:08.445073Z",
     "iopub.status.busy": "2025-06-17T06:18:08.444741Z",
     "iopub.status.idle": "2025-06-17T06:18:08.452613Z",
     "shell.execute_reply": "2025-06-17T06:18:08.451604Z"
    },
    "papermill": {
     "duration": 0.012793,
     "end_time": "2025-06-17T06:18:08.454297",
     "exception": false,
     "start_time": "2025-06-17T06:18:08.441504",
     "status": "completed"
    },
    "tags": []
   },
   "outputs": [
    {
     "name": "stdout",
     "output_type": "stream",
     "text": [
      "% of men who survived 0.18890814558058924\n"
     ]
    }
   ],
   "source": [
    "men_hype = train_data.loc[train_data['Sex']=='male'][\"Survived\"]\n",
    "rate_men = sum(men_hype)/len(men_hype)\n",
    "print(\"% of men who survived\",rate_men)"
   ]
  },
  {
   "cell_type": "code",
   "execution_count": 5,
   "id": "892a48fa",
   "metadata": {
    "execution": {
     "iopub.execute_input": "2025-06-17T06:18:08.460284Z",
     "iopub.status.busy": "2025-06-17T06:18:08.459951Z",
     "iopub.status.idle": "2025-06-17T06:18:10.792891Z",
     "shell.execute_reply": "2025-06-17T06:18:10.791791Z"
    },
    "papermill": {
     "duration": 2.338002,
     "end_time": "2025-06-17T06:18:10.794750",
     "exception": false,
     "start_time": "2025-06-17T06:18:08.456748",
     "status": "completed"
    },
    "tags": []
   },
   "outputs": [],
   "source": [
    "from sklearn.ensemble import RandomForestClassifier\n",
    "y = train_data[\"Survived\"]\n",
    "\n",
    "features = [\"Pclass\", \"Sex\", \"SibSp\", \"Parch\"]\n",
    "X = pd.get_dummies(train_data[features])\n",
    "X_test = pd.get_dummies(test_data[features])\n",
    "\n",
    "model = RandomForestClassifier(n_estimators = 100,max_depth=5,random_state=1)\n",
    "\n",
    "model.fit(X,y)\n",
    "predictions = model.predict(X_test)"
   ]
  },
  {
   "cell_type": "code",
   "execution_count": 6,
   "id": "14bfc708",
   "metadata": {
    "execution": {
     "iopub.execute_input": "2025-06-17T06:18:10.801010Z",
     "iopub.status.busy": "2025-06-17T06:18:10.800259Z",
     "iopub.status.idle": "2025-06-17T06:18:10.822472Z",
     "shell.execute_reply": "2025-06-17T06:18:10.821469Z"
    },
    "papermill": {
     "duration": 0.026941,
     "end_time": "2025-06-17T06:18:10.824086",
     "exception": false,
     "start_time": "2025-06-17T06:18:10.797145",
     "status": "completed"
    },
    "tags": []
   },
   "outputs": [
    {
     "data": {
      "text/html": [
       "<div>\n",
       "<style scoped>\n",
       "    .dataframe tbody tr th:only-of-type {\n",
       "        vertical-align: middle;\n",
       "    }\n",
       "\n",
       "    .dataframe tbody tr th {\n",
       "        vertical-align: top;\n",
       "    }\n",
       "\n",
       "    .dataframe thead th {\n",
       "        text-align: right;\n",
       "    }\n",
       "</style>\n",
       "<table border=\"1\" class=\"dataframe\">\n",
       "  <thead>\n",
       "    <tr style=\"text-align: right;\">\n",
       "      <th></th>\n",
       "      <th>PassengerId</th>\n",
       "      <th>Survived</th>\n",
       "    </tr>\n",
       "  </thead>\n",
       "  <tbody>\n",
       "    <tr>\n",
       "      <th>0</th>\n",
       "      <td>892</td>\n",
       "      <td>0</td>\n",
       "    </tr>\n",
       "    <tr>\n",
       "      <th>1</th>\n",
       "      <td>893</td>\n",
       "      <td>1</td>\n",
       "    </tr>\n",
       "    <tr>\n",
       "      <th>2</th>\n",
       "      <td>894</td>\n",
       "      <td>0</td>\n",
       "    </tr>\n",
       "    <tr>\n",
       "      <th>3</th>\n",
       "      <td>895</td>\n",
       "      <td>0</td>\n",
       "    </tr>\n",
       "    <tr>\n",
       "      <th>4</th>\n",
       "      <td>896</td>\n",
       "      <td>1</td>\n",
       "    </tr>\n",
       "    <tr>\n",
       "      <th>...</th>\n",
       "      <td>...</td>\n",
       "      <td>...</td>\n",
       "    </tr>\n",
       "    <tr>\n",
       "      <th>413</th>\n",
       "      <td>1305</td>\n",
       "      <td>0</td>\n",
       "    </tr>\n",
       "    <tr>\n",
       "      <th>414</th>\n",
       "      <td>1306</td>\n",
       "      <td>1</td>\n",
       "    </tr>\n",
       "    <tr>\n",
       "      <th>415</th>\n",
       "      <td>1307</td>\n",
       "      <td>0</td>\n",
       "    </tr>\n",
       "    <tr>\n",
       "      <th>416</th>\n",
       "      <td>1308</td>\n",
       "      <td>0</td>\n",
       "    </tr>\n",
       "    <tr>\n",
       "      <th>417</th>\n",
       "      <td>1309</td>\n",
       "      <td>0</td>\n",
       "    </tr>\n",
       "  </tbody>\n",
       "</table>\n",
       "<p>418 rows × 2 columns</p>\n",
       "</div>"
      ],
      "text/plain": [
       "     PassengerId  Survived\n",
       "0            892         0\n",
       "1            893         1\n",
       "2            894         0\n",
       "3            895         0\n",
       "4            896         1\n",
       "..           ...       ...\n",
       "413         1305         0\n",
       "414         1306         1\n",
       "415         1307         0\n",
       "416         1308         0\n",
       "417         1309         0\n",
       "\n",
       "[418 rows x 2 columns]"
      ]
     },
     "execution_count": 6,
     "metadata": {},
     "output_type": "execute_result"
    }
   ],
   "source": [
    "output = pd.DataFrame({'PassengerId':test_data.PassengerId,'Survived':predictions})\n",
    "output"
   ]
  },
  {
   "cell_type": "code",
   "execution_count": 7,
   "id": "8951aaba",
   "metadata": {
    "execution": {
     "iopub.execute_input": "2025-06-17T06:18:10.830895Z",
     "iopub.status.busy": "2025-06-17T06:18:10.830149Z",
     "iopub.status.idle": "2025-06-17T06:18:10.842244Z",
     "shell.execute_reply": "2025-06-17T06:18:10.841040Z"
    },
    "papermill": {
     "duration": 0.017358,
     "end_time": "2025-06-17T06:18:10.844127",
     "exception": false,
     "start_time": "2025-06-17T06:18:10.826769",
     "status": "completed"
    },
    "tags": []
   },
   "outputs": [
    {
     "name": "stdout",
     "output_type": "stream",
     "text": [
      "Your submission was successfully saved!\n"
     ]
    }
   ],
   "source": [
    "output.to_csv('submission.csv',index=False)\n",
    "print(\"Your submission was successfully saved!\")"
   ]
  }
 ],
 "metadata": {
  "kaggle": {
   "accelerator": "none",
   "dataSources": [
    {
     "databundleVersionId": 26502,
     "sourceId": 3136,
     "sourceType": "competition"
    }
   ],
   "dockerImageVersionId": 31040,
   "isGpuEnabled": false,
   "isInternetEnabled": false,
   "language": "python",
   "sourceType": "notebook"
  },
  "kernelspec": {
   "display_name": "Python 3",
   "language": "python",
   "name": "python3"
  },
  "language_info": {
   "codemirror_mode": {
    "name": "ipython",
    "version": 3
   },
   "file_extension": ".py",
   "mimetype": "text/x-python",
   "name": "python",
   "nbconvert_exporter": "python",
   "pygments_lexer": "ipython3",
   "version": "3.11.11"
  },
  "papermill": {
   "default_parameters": {},
   "duration": 10.738999,
   "end_time": "2025-06-17T06:18:11.567921",
   "environment_variables": {},
   "exception": null,
   "input_path": "__notebook__.ipynb",
   "output_path": "__notebook__.ipynb",
   "parameters": {},
   "start_time": "2025-06-17T06:18:00.828922",
   "version": "2.6.0"
  }
 },
 "nbformat": 4,
 "nbformat_minor": 5
}
